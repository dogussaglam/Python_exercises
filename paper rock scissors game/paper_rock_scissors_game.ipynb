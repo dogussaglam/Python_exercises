{
 "cells": [
  {
   "cell_type": "code",
   "execution_count": 9,
   "id": "088a9ad5-b888-4676-ad8a-9b385790af37",
   "metadata": {
    "tags": []
   },
   "outputs": [
    {
     "name": "stdin",
     "output_type": "stream",
     "text": [
      "how many times do you want to play? 5\n"
     ]
    },
    {
     "name": "stdout",
     "output_type": "stream",
     "text": [
      "round: 1\n",
      "rock\n",
      "rock\n",
      "Tie! Both players chose the same action.\n",
      "player 1 score is: 0\n",
      "player 2 score is: 0\n",
      "round: 2\n",
      "paper\n",
      "rock\n",
      "player 1 won!\n",
      "player 1 score is: 1\n",
      "player 2 score is: 0\n",
      "round: 3\n",
      "scissors\n",
      "rock\n",
      "player 1 won!\n",
      "player 1 score is: 2\n",
      "player 2 score is: 0\n",
      "round: 4\n",
      "scissors\n",
      "paper\n",
      "player 1 won!\n",
      "player 1 score is: 3\n",
      "player 2 score is: 0\n",
      "round: 5\n",
      "rock\n",
      "rock\n",
      "Tie! Both players chose the same action.\n",
      "player 1 score is: 3\n",
      "player 2 score is: 0\n",
      "player 1 won with score: 3 - 0\n"
     ]
    }
   ],
   "source": [
    "#Collect all the components of your program to run it in a while loop\n",
    "#Import the random library\n",
    "import random as rnd\n",
    "\n",
    "#Add the code to create a list containing the three actions of the game.\n",
    "actions=['rock','paper','scissors']\n",
    "\n",
    "#Add the code to set the scores of players to 0\n",
    "score1=0\n",
    "score2=0\n",
    "#Add a round_counter that is 0 at the beginning\n",
    "round_counter = 0\n",
    "\n",
    "#Add the code to ask the user how many rounds they want to play\n",
    "rounds = int(input('how many times do you want to play?'))\n",
    "\n",
    "#Write a while loop and put the game inside\n",
    "while round_counter<rounds:\n",
    "\n",
    "  #increase round_counter by 1 and print it\n",
    "  round_counter += 1\n",
    "  print('round:',round_counter)\n",
    "  #Add the code to select a random action for each player\n",
    "  player1 = actions[rnd.randint(0,2)]\n",
    "  player2 = actions[rnd.randint(0,2)]\n",
    "\n",
    "  #Add the code to print the players choices\n",
    "  print(player1)\n",
    "  print(player2)\n",
    "\n",
    "  #Add the tie condition\n",
    "  if player1 == player2:\n",
    "    print('Tie! Both players chose the same action.') \n",
    "  #Add the remaining condition\n",
    "  elif player1== 'paper' and player2== 'rock':\n",
    "    print('player 1 won!')\n",
    "    score1 +=1\n",
    "  elif player1== 'paper' and player2=='scissors':\n",
    "    print('player 2 won!')\n",
    "    score2 +=1\n",
    "  elif player1=='scissors' and player2=='rock':\n",
    "    print('player 1 won!')\n",
    "    score1 +=1\n",
    "  elif player1=='scissors' and player2=='paper':\n",
    "    print('player 1 won!')\n",
    "    score1 +=1\n",
    "  elif player1=='rock' and player2=='paper':\n",
    "    print('player 2 won!')\n",
    "    score2 +=1\n",
    "  else:\n",
    "    print('player 1 won!')\n",
    "    score1 +=1\n",
    "\n",
    "\n",
    "  #print the score\n",
    " \n",
    "  print('player 1 score is:',score1)\n",
    "  print('player 2 score is:',score2)\n",
    "\n",
    " #stop the while loop if the round_counter equals the number of total rounds\n",
    "\n",
    " #Print the outcome of the game by using conditional statements\n",
    "if score1>score2:\n",
    "  print(f'player 1 won with score: {score1} - {score2}')\n",
    "elif score2>score1:\n",
    "  print(f'player 2 won with score: {score2} - {score1}')\n",
    "else:\n",
    "  print('Draw!')"
   ]
  },
  {
   "cell_type": "code",
   "execution_count": null,
   "id": "1c6ea3e3-5673-45af-abfb-1162c1d018df",
   "metadata": {},
   "outputs": [],
   "source": []
  }
 ],
 "metadata": {
  "kernelspec": {
   "display_name": "Python 3 (ipykernel)",
   "language": "python",
   "name": "python3"
  },
  "language_info": {
   "codemirror_mode": {
    "name": "ipython",
    "version": 3
   },
   "file_extension": ".py",
   "mimetype": "text/x-python",
   "name": "python",
   "nbconvert_exporter": "python",
   "pygments_lexer": "ipython3",
   "version": "3.9.13"
  }
 },
 "nbformat": 4,
 "nbformat_minor": 5
}
